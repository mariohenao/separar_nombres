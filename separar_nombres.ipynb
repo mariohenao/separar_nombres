{
 "cells": [
  {
   "cell_type": "markdown",
   "metadata": {},
   "source": [
    "# Separar nombres de un archivo .csv con una columna llamada `Name`\n",
    "\n",
    "Recuerde que para correr cada celda debe: \n",
    "1. Dar click dentro de la celda \n",
    "2. Usar el comando `Ctrl+Enter` o dar click en la opción _Run_ que aparece arriba.\n",
    "\n",
    "Asegúrese de correr las celdas en el orden en el que aparecen en este documento."
   ]
  },
  {
   "cell_type": "code",
   "execution_count": null,
   "metadata": {},
   "outputs": [],
   "source": [
    "columna_nombre = 'Name'"
   ]
  },
  {
   "cell_type": "markdown",
   "metadata": {},
   "source": [
    "---------\n",
    "\n",
    "Escriba en la casilla de abajo el nombre del archivo .csv que se quiere utilizar, entre comillas (ejemplo: 'test_desaparecidxs.csv')."
   ]
  },
  {
   "cell_type": "code",
   "execution_count": null,
   "metadata": {},
   "outputs": [],
   "source": [
    "data_file_path = 'test_desaparecidxs.csv'"
   ]
  },
  {
   "cell_type": "code",
   "execution_count": null,
   "metadata": {},
   "outputs": [],
   "source": [
    "import pandas as pd\n",
    "import re\n",
    "from copy import deepcopy"
   ]
  },
  {
   "cell_type": "code",
   "execution_count": null,
   "metadata": {},
   "outputs": [],
   "source": [
    "df_nombres = pd.read_csv(data_file_path)"
   ]
  },
  {
   "cell_type": "code",
   "execution_count": null,
   "metadata": {},
   "outputs": [],
   "source": [
    "def separa_nombres(nombre):\n",
    "    nombre_limpio = re.sub(r'[^a-zA-Z0-9\\u00C0-\\u00FF ]', '', nombre) #se quitan caracteres especiales y números\n",
    "    nombre_limpio = ' '.join(nombre_limpio.strip().split(' '))\n",
    "    lista_nombre = nombre_limpio.split(' ')\n",
    "    if len(lista_nombre) > 4:\n",
    "        nombre1 = lista_nombre[0].lower().capitalize()\n",
    "        nombre2 = lista_nombre[1].lower().capitalize()\n",
    "        apellido1 = lista_nombre[-2].lower().capitalize()\n",
    "        apellido2 = lista_nombre[-1].lower().capitalize()\n",
    "    elif len(lista_nombre) == 4:\n",
    "        nombre1 = lista_nombre[0].lower().capitalize()\n",
    "        nombre2 = lista_nombre[1].lower().capitalize()\n",
    "        apellido1 = lista_nombre[2].lower().capitalize()\n",
    "        apellido2 = lista_nombre[3].lower().capitalize()\n",
    "    elif len(lista_nombre) == 3:\n",
    "        nombre1 = lista_nombre[0].lower().capitalize()\n",
    "        nombre2 = ''\n",
    "        apellido1 = lista_nombre[1].lower().capitalize()\n",
    "        apellido2 = lista_nombre[2].lower().capitalize()\n",
    "    elif len(lista_nombre) == 2:\n",
    "        nombre1 = lista_nombre[0].lower().capitalize()\n",
    "        nombre2 = ''\n",
    "        apellido1 = lista_nombre[1].lower().capitalize()\n",
    "        apellido2 = ''\n",
    "    elif len(lista_nombre) == 1:\n",
    "        nombre1 = lista_nombre[0].lower().capitalize()\n",
    "        nombre2 = ''\n",
    "        apellido1 = ''\n",
    "        apellido2 = ''\n",
    "    \n",
    "    return nombre1, nombre2, apellido1, apellido2"
   ]
  },
  {
   "cell_type": "code",
   "execution_count": null,
   "metadata": {},
   "outputs": [],
   "source": [
    "df_nombres['nombre1'] = df_nombres[columna_nombre].apply(lambda nom: separa_nombres(nom)[0])\n",
    "df_nombres['nombre2'] = df_nombres[columna_nombre].apply(lambda nom: separa_nombres(nom)[1])\n",
    "df_nombres['nombre3'] = df_nombres[columna_nombre].apply(lambda nom: separa_nombres(nom)[2])\n",
    "df_nombres['nombre4'] = df_nombres[columna_nombre].apply(lambda nom: separa_nombres(nom)[3])"
   ]
  },
  {
   "cell_type": "markdown",
   "metadata": {},
   "source": [
    "Acá se muestra un preview de los datos habiendo añadido las columnas `nombre1`, `nombre2`, `nombre3` y `nombre4`."
   ]
  },
  {
   "cell_type": "code",
   "execution_count": null,
   "metadata": {},
   "outputs": [],
   "source": [
    "df_nombres"
   ]
  },
  {
   "cell_type": "code",
   "execution_count": null,
   "metadata": {},
   "outputs": [],
   "source": [
    "df_nombres.to_csv(f'NOMBRES_SEPARADOS-{data_file_path}')\n",
    "\n",
    "print(f'Archivo exportado en la ruta: NOMBRES_SEPARADOS-{data_file_path}')"
   ]
  },
  {
   "cell_type": "markdown",
   "metadata": {},
   "source": [
    "En este punto se tiene:\n",
    "1. Un archivo .csv idéntico al de entrada pero con 4 columnas nuevas (`nombre1`, `nombre2`, `nombre3`, `nombre4`) que separan la columna `Name` en 4 partes.\n",
    "2. La configuración necesaria para buscar duplicados en ciertas columnas."
   ]
  },
  {
   "cell_type": "markdown",
   "metadata": {},
   "source": [
    "-----------------\n",
    "# Busqueda de duplicados\n",
    "\n",
    "En esta seccion usted puede buscar duplicados en las filas del conjunto de datos, en la siguiente celda seleccione las columnas sobre las cuales quiere encontrar duplicados. \n",
    "\n",
    "Debe escribir el nombre de las columnas entre comillas y separadas por coma:\n",
    "\n",
    "**Ejemplos** \n",
    "- Si se quiren buscar duplicados sobre la columna de `nombre1` => `grupo_busqueda = ['nombre1']`\n",
    "- Si quiere buscar sobre las columnas `Identificacion` y `nombre2` => `grupo_busqueda = ['Identificacion', 'nombre2']`\n",
    "\n",
    "_Nota: Poner dos columnas implica que se mostrarán aquellos registros que compartan el valor EN LAS DOS COLUMNAS_"
   ]
  },
  {
   "cell_type": "code",
   "execution_count": null,
   "metadata": {},
   "outputs": [],
   "source": [
    "grupo_busqueda = ['nombre1', 'nombre2']"
   ]
  },
  {
   "cell_type": "code",
   "execution_count": null,
   "metadata": {},
   "outputs": [],
   "source": [
    "df_tmp = deepcopy(df_nombres)\n",
    "for columna in grupo_busqueda:\n",
    "    df_tmp = df_tmp[~df_tmp[columna].isna()]\n",
    "    df_tmp = df_tmp[~df_tmp[columna].eq('')]"
   ]
  },
  {
   "cell_type": "markdown",
   "metadata": {},
   "source": [
    "La siguiente celda muestra un preview de los datos duplicados, ordenados por la columna que se está analizando. Recuerde que el número del registor aparece a la izquierda y éste le permite modificar el archivo que exportó arriba en caso de encontrar duplicados. \n",
    "\n",
    "Estos previews se muestran completos máximos hasta un tamaño de 60 filas, si se tienen más entonces se mostrará con unos puntos suspensivos (`...`) en la mitad y para poder visualizarlo completamente vaya al final de este documento y siga las instrucciones"
   ]
  },
  {
   "cell_type": "code",
   "execution_count": null,
   "metadata": {},
   "outputs": [],
   "source": [
    "valores_duplicados = df_tmp[df_tmp[grupo_busqueda].duplicated(keep=False)].sort_values(grupo_busqueda)\n",
    "valores_duplicados"
   ]
  },
  {
   "cell_type": "markdown",
   "metadata": {},
   "source": [
    "------\n",
    "Esta parte es completamente opciones y sólo debe correrla si necesita visualizar completamente el conjunto de datos anterior, para eso lo exportaremos como otro .csv\n",
    "\n",
    "Para esto debe borrar el símbolo de numeral (`#`) al inicio de la siguiente celda y correrla normalmente"
   ]
  },
  {
   "cell_type": "code",
   "execution_count": null,
   "metadata": {},
   "outputs": [],
   "source": [
    "#valores_duplicados.to_csv('VALORES_DUPLICADOS.csv')"
   ]
  },
  {
   "cell_type": "code",
   "execution_count": null,
   "metadata": {},
   "outputs": [],
   "source": []
  }
 ],
 "metadata": {
  "kernelspec": {
   "display_name": "platform",
   "language": "python",
   "name": "platform"
  },
  "language_info": {
   "codemirror_mode": {
    "name": "ipython",
    "version": 3
   },
   "file_extension": ".py",
   "mimetype": "text/x-python",
   "name": "python",
   "nbconvert_exporter": "python",
   "pygments_lexer": "ipython3",
   "version": "3.6.9"
  }
 },
 "nbformat": 4,
 "nbformat_minor": 4
}
